{
  "nbformat": 4,
  "nbformat_minor": 0,
  "metadata": {
    "colab": {
      "name": "Artificial Intelligence Assignment # 1.ipynb",
      "provenance": [],
      "collapsed_sections": [],
      "include_colab_link": true
    },
    "kernelspec": {
      "name": "python3",
      "display_name": "Python 3"
    }
  },
  "cells": [
    {
      "cell_type": "markdown",
      "metadata": {
        "id": "view-in-github",
        "colab_type": "text"
      },
      "source": [
        "<a href=\"https://colab.research.google.com/github/Ravz4GitHub/Ravz4GitHub/blob/main/AI_Assignment_1-Ravz.ipynb\" target=\"_parent\"><img src=\"https://colab.research.google.com/assets/colab-badge.svg\" alt=\"Open In Colab\"/></a>"
      ]
    },
    {
      "cell_type": "markdown",
      "metadata": {
        "id": "LPhpBm3UT6m1"
      },
      "source": [
        "## Deep Learning Assignment # 1 \n",
        "\n",
        "Introduction to Neural Networks\n",
        "\n",
        "Hello everyone, This is your first assignment. Feel free to code in python and express your thoughts in comments. No one likes unformatted code without proper structure and its painful to read & evaluate.\n",
        "\n",
        "**Q1**. Design a code to run linear regression with Boston housing data present in sklearn.datasets. Make a simple linear classifier and use gradient descent to optimize the loss. Don't use any prebuilt function for linear regression. Write it on your own. \n",
        "\n",
        "\n",
        "**Q2.** Design a code to perform logistic regression on Iris dataset. Make sure to use cross entropy to calculate loss values. Don't use any prebuilt function for logistic regression. Write it on your own. \n",
        "\n",
        "**Q3.** Describe a basic ideas as how would you extend the idea of gradient descent in multi layered perceptron or neural networks with more than 2 hidden layers.\n",
        "\n",
        "\n",
        "**Suggestion:** Read up on Feedforward Deep Neural Network from the book **Deep Learning** by *Ian Goodfellow* for better understanding of math.\n",
        "\n",
        "\n",
        "(Optional)Do the same above task in simple neural networks. No need for deep neural networks.\n",
        "You can use Tensorflow for designing neural networks.\n",
        "\n",
        "*If possible write your code  and text as well on google colab and share it with  amritansh.48@gmail.com*. *It would make your submissions easy to run and cross check. \n"
      ]
    },
    {
      "cell_type": "code",
      "metadata": {
        "id": "Vk5KMSGJXT_L"
      },
      "source": [
        "# linear regression code here"
      ],
      "execution_count": null,
      "outputs": []
    },
    {
      "cell_type": "code",
      "metadata": {
        "id": "6_qkM1knXZ8F"
      },
      "source": [
        "# logistic regression code here"
      ],
      "execution_count": null,
      "outputs": []
    },
    {
      "cell_type": "markdown",
      "source": [
        ""
      ],
      "metadata": {
        "id": "3FP7xKQp-WjC"
      }
    }
  ]
}